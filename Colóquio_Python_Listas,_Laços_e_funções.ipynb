{
  "nbformat": 4,
  "nbformat_minor": 0,
  "metadata": {
    "colab": {
      "name": "Colóquio Python: Listas, Laços e funções.ipynb",
      "provenance": [],
      "collapsed_sections": []
    },
    "kernelspec": {
      "name": "python3",
      "display_name": "Python 3"
    },
    "language_info": {
      "name": "python"
    }
  },
  "cells": [
    {
      "cell_type": "markdown",
      "source": [
        "# **Estrutura de dados em Python:**"
      ],
      "metadata": {
        "id": "2S4qo-2fFZJ9"
      }
    },
    {
      "cell_type": "markdown",
      "source": [
        "# **1. Listas**"
      ],
      "metadata": {
        "id": "eFom3wbjIEib"
      }
    },
    {
      "cell_type": "code",
      "source": [
        "frutas = ['banana', 'maçã', 'morango']\n",
        "print(frutas)"
      ],
      "metadata": {
        "id": "_irpDkb7HCEZ"
      },
      "execution_count": null,
      "outputs": []
    },
    {
      "cell_type": "markdown",
      "source": [
        "Tamanho das listas"
      ],
      "metadata": {
        "id": "3AZbLUN-KW3b"
      }
    },
    {
      "cell_type": "code",
      "source": [
        "print(len(frutas))"
      ],
      "metadata": {
        "id": "aT-CWQ9cIPVj"
      },
      "execution_count": null,
      "outputs": []
    },
    {
      "cell_type": "markdown",
      "source": [
        "Listas podem ser de diferentes tipos de dados"
      ],
      "metadata": {
        "id": "rYSQ3BP4KkHz"
      }
    },
    {
      "cell_type": "code",
      "source": [
        "frutas = ['banana','maçã','morango','kiwi','goiaba','maracuja']\n",
        "lista1 = [10, 5, 8]\n",
        "lista2 = [True, False, True]\n",
        "lista3 = [frutas, lista1, lista2]"
      ],
      "metadata": {
        "id": "D_A38bd7IisW"
      },
      "execution_count": null,
      "outputs": []
    },
    {
      "cell_type": "code",
      "source": [
        "print(lista3)"
      ],
      "metadata": {
        "id": "RG1X6Y_dX8Ky"
      },
      "execution_count": null,
      "outputs": []
    },
    {
      "cell_type": "markdown",
      "source": [
        "Como acessar os itens das listas"
      ],
      "metadata": {
        "id": "FGsbl5fGKonL"
      }
    },
    {
      "cell_type": "code",
      "source": [
        "print(lista1[-1])\n",
        "print(lista1[1:4])\n",
        "print(lista1[2:])\n",
        "print(lista1[:3])"
      ],
      "metadata": {
        "id": "6Tik4fzAJWfH"
      },
      "execution_count": null,
      "outputs": []
    },
    {
      "cell_type": "markdown",
      "source": [
        "Checando se um item existe numa lista"
      ],
      "metadata": {
        "id": "nKPwdDoILzG8"
      }
    },
    {
      "cell_type": "code",
      "source": [
        "if 'batata' in frutas: \n",
        "  print('Existe uma batata na lista1')\n",
        "else: \n",
        "  print('Não existe uma batata na lista1')"
      ],
      "metadata": {
        "id": "hYwH73KWKvTJ"
      },
      "execution_count": null,
      "outputs": []
    },
    {
      "cell_type": "markdown",
      "source": [
        "Outros métodos do tipo lista"
      ],
      "metadata": {
        "id": "J_zKKiFYYawY"
      }
    },
    {
      "cell_type": "code",
      "source": [
        "print(frutas)"
      ],
      "metadata": {
        "id": "45_myiMtYWcN"
      },
      "execution_count": null,
      "outputs": []
    },
    {
      "cell_type": "code",
      "source": [
        "print(frutas.count('pera'))"
      ],
      "metadata": {
        "id": "muG9VYmmXlp_"
      },
      "execution_count": null,
      "outputs": []
    },
    {
      "cell_type": "code",
      "source": [
        "print(frutas.index('maçã'))\n",
        "print(frutas.index('morango'))"
      ],
      "metadata": {
        "id": "jbJdWRhCYfwr"
      },
      "execution_count": null,
      "outputs": []
    },
    {
      "cell_type": "markdown",
      "source": [
        "Como alterar itens na lista"
      ],
      "metadata": {
        "id": "_xucO3NiMHEb"
      }
    },
    {
      "cell_type": "code",
      "source": [
        "frutas = ['banana','maçã','morango','kiwi','goiaba','maracuja']\n",
        "frutas[0] = 'pera'\n",
        "print(frutas)"
      ],
      "metadata": {
        "id": "PqCG01D3MJ-Q"
      },
      "execution_count": null,
      "outputs": []
    },
    {
      "cell_type": "code",
      "source": [
        "frutas[1:4] = ['melancia', 'laranja', 'batata']\n",
        "print(frutas)"
      ],
      "metadata": {
        "id": "wvYFx0HMMYZP"
      },
      "execution_count": null,
      "outputs": []
    },
    {
      "cell_type": "code",
      "source": [
        "#Só para facilitar o endimento\n",
        "lista = frutas[0:3]\n",
        "lista"
      ],
      "metadata": {
        "id": "IWrmo8MWO5Ld"
      },
      "execution_count": null,
      "outputs": []
    },
    {
      "cell_type": "markdown",
      "source": [
        "Adicionando Itens a lista "
      ],
      "metadata": {
        "id": "f186Unq7ONgB"
      }
    },
    {
      "cell_type": "code",
      "source": [
        "#frutas[6] = 'pera'"
      ],
      "metadata": {
        "id": "knkeaK4WMYI6"
      },
      "execution_count": null,
      "outputs": []
    },
    {
      "cell_type": "code",
      "source": [
        "lista.append('maçã')\n",
        "print(lista)"
      ],
      "metadata": {
        "id": "-LVVrts9OJbn"
      },
      "execution_count": null,
      "outputs": []
    },
    {
      "cell_type": "code",
      "source": [
        "lista.insert(3 ,'pera')\n",
        "print(lista)"
      ],
      "metadata": {
        "id": "C6Pe4xqoM6qf"
      },
      "execution_count": null,
      "outputs": []
    },
    {
      "cell_type": "markdown",
      "source": [
        "Adicionando duas listas "
      ],
      "metadata": {
        "id": "b0vhjZHFQ7Jy"
      }
    },
    {
      "cell_type": "code",
      "source": [
        "frutas = ['banana','maçã','pera']\n",
        "frutas2 = ['abacate','goiava','jaca']"
      ],
      "metadata": {
        "id": "DIE4oC5GP73T"
      },
      "execution_count": null,
      "outputs": []
    },
    {
      "cell_type": "code",
      "source": [
        "frutas.extend(frutas2)\n",
        "print(frutas)"
      ],
      "metadata": {
        "id": "vw0FZP2pWp5J"
      },
      "execution_count": null,
      "outputs": []
    },
    {
      "cell_type": "code",
      "source": [
        "print(frutas + frutas2)"
      ],
      "metadata": {
        "id": "JeiJts4gWgw2"
      },
      "execution_count": null,
      "outputs": []
    },
    {
      "cell_type": "markdown",
      "source": [
        "Remover itens da lista"
      ],
      "metadata": {
        "id": "d844mMiiRA9u"
      }
    },
    {
      "cell_type": "code",
      "source": [
        "frutas.remove('jaca')\n",
        "print(frutas)"
      ],
      "metadata": {
        "id": "zbrSMjYHRCi8"
      },
      "execution_count": null,
      "outputs": []
    },
    {
      "cell_type": "code",
      "source": [
        "frutas.pop(2)\n",
        "print(frutas)"
      ],
      "metadata": {
        "id": "Vw7YVoCeRVNa"
      },
      "execution_count": null,
      "outputs": []
    },
    {
      "cell_type": "code",
      "source": [
        "frutas.pop()\n",
        "#Deleta o último item"
      ],
      "metadata": {
        "id": "MmsgSp1LRdJY"
      },
      "execution_count": null,
      "outputs": []
    },
    {
      "cell_type": "code",
      "source": [
        "print(frutas)\n",
        "del frutas[2]\n",
        "print(frutas)"
      ],
      "metadata": {
        "id": "MOS_I_0ASA_9"
      },
      "execution_count": null,
      "outputs": []
    },
    {
      "cell_type": "code",
      "source": [
        "del frutas\n",
        "#print(frutas)"
      ],
      "metadata": {
        "id": "6kVCCESUTgWt"
      },
      "execution_count": null,
      "outputs": []
    },
    {
      "cell_type": "code",
      "source": [
        "frutas = ['banana','maçã','pera']"
      ],
      "metadata": {
        "id": "0UKzEoL-n57J"
      },
      "execution_count": null,
      "outputs": []
    },
    {
      "cell_type": "code",
      "source": [
        "lista.clear()\n",
        "print(lista)"
      ],
      "metadata": {
        "id": "1vc8QPWcTka6"
      },
      "execution_count": null,
      "outputs": []
    },
    {
      "cell_type": "markdown",
      "source": [
        "# **Tupla**"
      ],
      "metadata": {
        "id": "3mmmhSDhT5A0"
      }
    },
    {
      "cell_type": "markdown",
      "source": [
        "\n",
        "\n",
        "*   Imutáveis e Ordenadas\n",
        "\n"
      ],
      "metadata": {
        "id": "PHTodtyMUwsQ"
      }
    },
    {
      "cell_type": "code",
      "source": [
        "tupla_frutas = ('banana', 'maçã', 'laranja')\n",
        "print(type(tupla_frutas))"
      ],
      "metadata": {
        "id": "0Pqh0I0XURe3"
      },
      "execution_count": null,
      "outputs": []
    },
    {
      "cell_type": "markdown",
      "source": [
        "Permitem diferentes tipos de dados"
      ],
      "metadata": {
        "id": "mwUxS2vyU91E"
      }
    },
    {
      "cell_type": "code",
      "source": [
        "tupla1 = (1, 'banana', 5.5, False)"
      ],
      "metadata": {
        "id": "eP5GJJeOUeyu"
      },
      "execution_count": null,
      "outputs": []
    },
    {
      "cell_type": "code",
      "source": [
        "print(len(tupla1))"
      ],
      "metadata": {
        "id": "DuO9i5E7VJcd"
      },
      "execution_count": null,
      "outputs": []
    },
    {
      "cell_type": "markdown",
      "source": [
        "Converter tupla em lista e vice-versa"
      ],
      "metadata": {
        "id": "saOEaLDBVYdG"
      }
    },
    {
      "cell_type": "code",
      "source": [
        "lista_frutas = list(tupla_frutas)\n",
        "print(type(lista_frutas))"
      ],
      "metadata": {
        "id": "fN0a5jKJVjmu"
      },
      "execution_count": null,
      "outputs": []
    },
    {
      "cell_type": "code",
      "source": [
        "lista_frutas[1] = 'banana'\n",
        "tupla_frutas = tuple(lista_frutas)\n",
        "print(tupla_frutas)"
      ],
      "metadata": {
        "id": "q-HTcOfGVyGv"
      },
      "execution_count": null,
      "outputs": []
    },
    {
      "cell_type": "code",
      "source": [
        ""
      ],
      "metadata": {
        "id": "hGcvO7MkWaTS"
      },
      "execution_count": null,
      "outputs": []
    },
    {
      "cell_type": "markdown",
      "source": [
        "# **Dicionário**"
      ],
      "metadata": {
        "id": "8t4-Ob3AUFKc"
      }
    },
    {
      "cell_type": "markdown",
      "source": [
        "Usados para armazenar valores em palavras-chave"
      ],
      "metadata": {
        "id": "eiecrwUiY8oK"
      }
    },
    {
      "cell_type": "code",
      "source": [
        "pessoa1 = {'nome'           : 'Daniel',\n",
        "           'data_nascimento': '24/06/1981',\n",
        "           'endereço'       : 'Rua... N° 200, bairro... ',\n",
        "           'filhos'         : ['João','Marina'],\n",
        "           'saldo_conta'    : 1500.33,\n",
        "           'casa_própria'   : False}"
      ],
      "metadata": {
        "id": "vs2kmluPVe2w"
      },
      "execution_count": null,
      "outputs": []
    },
    {
      "cell_type": "code",
      "source": [
        "print(pessoa1['filhos'])"
      ],
      "metadata": {
        "id": "EVOi2CGsZw61"
      },
      "execution_count": null,
      "outputs": []
    },
    {
      "cell_type": "markdown",
      "source": [
        "Tamanho do dicionário"
      ],
      "metadata": {
        "id": "ren6IdLwaoIg"
      }
    },
    {
      "cell_type": "code",
      "source": [
        "print(len(pessoa1))"
      ],
      "metadata": {
        "id": "V8Z53zbAaEmv"
      },
      "execution_count": null,
      "outputs": []
    },
    {
      "cell_type": "markdown",
      "source": [
        "Acessando valores do dicionário"
      ],
      "metadata": {
        "id": "N9n5iHlWcg7Z"
      }
    },
    {
      "cell_type": "code",
      "source": [
        "print(pessoa1.keys())"
      ],
      "metadata": {
        "id": "rbEefHOpagC_"
      },
      "execution_count": null,
      "outputs": []
    },
    {
      "cell_type": "code",
      "source": [
        "print(pessoa1.values())"
      ],
      "metadata": {
        "id": "ruk3OSGFbQeq"
      },
      "execution_count": null,
      "outputs": []
    },
    {
      "cell_type": "code",
      "source": [
        "print(pessoa1.items())"
      ],
      "metadata": {
        "id": "h70n4tOxbacs"
      },
      "execution_count": null,
      "outputs": []
    },
    {
      "cell_type": "markdown",
      "source": [
        "Acessar e alterar valores do dicionário"
      ],
      "metadata": {
        "id": "-w_nENoWcj4B"
      }
    },
    {
      "cell_type": "code",
      "source": [
        "pessoa1['nome'] = 'Jonas'\n",
        "print(pessoa1)"
      ],
      "metadata": {
        "id": "gZ9DGKn6bpfy"
      },
      "execution_count": null,
      "outputs": []
    },
    {
      "cell_type": "code",
      "source": [
        "pessoa1['carro'] = False\n",
        "print(pessoa1)"
      ],
      "metadata": {
        "id": "I07PvzPVb4ZO"
      },
      "execution_count": null,
      "outputs": []
    },
    {
      "cell_type": "code",
      "source": [
        "pessoa1.pop('carro')\n",
        "print(pessoa1)"
      ],
      "metadata": {
        "id": "8C0GK42PcTWt"
      },
      "execution_count": null,
      "outputs": []
    },
    {
      "cell_type": "code",
      "source": [
        "pessoa1.popitem()\n",
        "print(pessoa1)"
      ],
      "metadata": {
        "id": "ICm_Ii6Pc1Ca"
      },
      "execution_count": null,
      "outputs": []
    },
    {
      "cell_type": "code",
      "source": [
        "pessoa1.clear()\n",
        "print(pessoa1)"
      ],
      "metadata": {
        "id": "ayeAjDMhc77x"
      },
      "execution_count": null,
      "outputs": []
    },
    {
      "cell_type": "code",
      "source": [
        "familia = {\n",
        "  \"pessoa1\" : {\n",
        "    \"nome\" : \"Emile\",\n",
        "    \"nascimento\" : 2004\n",
        "  },\n",
        "  \"pessoa2\" : {\n",
        "    \"nome\" : \"Fábio\",\n",
        "    \"nascimento\" : 2001\n",
        "  },\n",
        "  \"pessoa3\" : {\n",
        "    \"nome\" : \"João\",\n",
        "    \"nascimento\" : 2000\n",
        "  }\n",
        "}\n",
        "print(familia)"
      ],
      "metadata": {
        "id": "GZkTBNfMdHRD"
      },
      "execution_count": null,
      "outputs": []
    },
    {
      "cell_type": "markdown",
      "source": [
        "# **Laços em Python**"
      ],
      "metadata": {
        "id": "wsHfExM5HDls"
      }
    },
    {
      "cell_type": "markdown",
      "source": [
        "**Laço for**"
      ],
      "metadata": {
        "id": "Th6w3LnqhnwY"
      }
    },
    {
      "cell_type": "markdown",
      "source": [
        "Em listas, tuplas ou dicionários"
      ],
      "metadata": {
        "id": "RxS9YdH3eFwu"
      }
    },
    {
      "cell_type": "code",
      "source": [
        "for x in frutas:\n",
        "  print(x)"
      ],
      "metadata": {
        "id": "KXNPSqyXF4zi"
      },
      "execution_count": null,
      "outputs": []
    },
    {
      "cell_type": "code",
      "source": [
        "for x in tupla_frutas:\n",
        "  print(x)"
      ],
      "metadata": {
        "id": "UQsnWWI8eJV9"
      },
      "execution_count": null,
      "outputs": []
    },
    {
      "cell_type": "code",
      "source": [
        "for x in pessoa1:\n",
        "  print(x)\n",
        "\n",
        "print('\\n')\n",
        "\n",
        "for x in familia:\n",
        "  print(x)"
      ],
      "metadata": {
        "id": "91KjcbjbeR5l"
      },
      "execution_count": null,
      "outputs": []
    },
    {
      "cell_type": "markdown",
      "source": [
        "Iterar sobre strings"
      ],
      "metadata": {
        "id": "62i69H90ewRZ"
      }
    },
    {
      "cell_type": "code",
      "source": [
        "for letra in 'banana':\n",
        "  print(letra)"
      ],
      "metadata": {
        "id": "D8HkJgs5GHBb"
      },
      "execution_count": null,
      "outputs": []
    },
    {
      "cell_type": "markdown",
      "source": [
        "Uso do break, pass e continue"
      ],
      "metadata": {
        "id": "hsFHnpKte1HQ"
      }
    },
    {
      "cell_type": "code",
      "source": [
        "frutas = ['banana', 'kiwi','maçã']\n",
        "\n",
        "for x in frutas: \n",
        "  if x == 'kiwi':\n",
        "    break\n",
        "  else:\n",
        "    print(f'{x} não é um kiwi')"
      ],
      "metadata": {
        "id": "kcw_UgboGPOz"
      },
      "execution_count": null,
      "outputs": []
    },
    {
      "cell_type": "code",
      "source": [
        "for x in frutas: \n",
        "  if x == 'kiwi':\n",
        "    continue\n",
        "  else:\n",
        "    print(f'{x} não é um kiwi')"
      ],
      "metadata": {
        "id": "kMUBY00vfVOH"
      },
      "execution_count": null,
      "outputs": []
    },
    {
      "cell_type": "code",
      "source": [
        "for x in frutas:\n",
        "  pass"
      ],
      "metadata": {
        "id": "JXFqFIOQfdTo"
      },
      "execution_count": null,
      "outputs": []
    },
    {
      "cell_type": "markdown",
      "source": [
        "Uso do range()"
      ],
      "metadata": {
        "id": "1WiBlGGcgNrn"
      }
    },
    {
      "cell_type": "code",
      "source": [
        "for x in range(5):\n",
        "  print(x)"
      ],
      "metadata": {
        "id": "3OuCiPJDgNWj"
      },
      "execution_count": null,
      "outputs": []
    },
    {
      "cell_type": "code",
      "source": [
        "for x in range(2,6):\n",
        "  print(x)"
      ],
      "metadata": {
        "id": "5_-vjKWmgEIa"
      },
      "execution_count": null,
      "outputs": []
    },
    {
      "cell_type": "code",
      "source": [
        "for x in range(2, 30, 3):\n",
        "  print(x)"
      ],
      "metadata": {
        "id": "0TQY4rEhgVSl"
      },
      "execution_count": null,
      "outputs": []
    },
    {
      "cell_type": "code",
      "source": [
        "legumes = [\"batata\", \"cebola\", \"pepino\"]\n",
        "frutas = [\"maçã\", \"banana\", \"laranja\"]\n",
        "\n",
        "for x in frutas:\n",
        "  for y in legumes:\n",
        "    print(f'A {x} é uma fruta e {y} é um legume \\n')"
      ],
      "metadata": {
        "id": "cVqz7EnZgclq"
      },
      "execution_count": null,
      "outputs": []
    },
    {
      "cell_type": "code",
      "source": [
        "i = 1\n",
        "while i < 6:\n",
        "  print(i)\n",
        "  i += 1"
      ],
      "metadata": {
        "id": "q7LDWIj4hgft"
      },
      "execution_count": null,
      "outputs": []
    },
    {
      "cell_type": "code",
      "source": [
        "i = 1\n",
        "while i < 6:\n",
        "  print(i)\n",
        "  if i == 3:\n",
        "    break\n",
        "  i += 1"
      ],
      "metadata": {
        "id": "o4DUwTO8h3lI"
      },
      "execution_count": null,
      "outputs": []
    },
    {
      "cell_type": "code",
      "source": [
        "i = 0\n",
        "while i < 6:\n",
        "  i += 1\n",
        "  if i == 3:\n",
        "    continue\n",
        "  print(i)"
      ],
      "metadata": {
        "id": "ENfO7x9zh6w9"
      },
      "execution_count": null,
      "outputs": []
    },
    {
      "cell_type": "markdown",
      "source": [
        "# **Funções em Python**"
      ],
      "metadata": {
        "id": "ZbZvbOBBiNLy"
      }
    },
    {
      "cell_type": "code",
      "source": [
        "def gerador_email(nome):\n",
        "  print(f'Seu email é: {nome[:3]}@discente.ifpe.edu.br')\n",
        "\n",
        "gerador_email(\"Jonas\")\n",
        "gerador_email(\"Laura\")\n",
        "gerador_email(\"Eduardo\")"
      ],
      "metadata": {
        "id": "vjWOT8TqiRI-"
      },
      "execution_count": null,
      "outputs": []
    },
    {
      "cell_type": "code",
      "source": [
        "def bom_dia(nome1,nome2):\n",
        "  print(f'Bom dia {nome1} e {nome2}')"
      ],
      "metadata": {
        "id": "cQ0fpbOUinzm"
      },
      "execution_count": null,
      "outputs": []
    },
    {
      "cell_type": "code",
      "source": [
        "bom_dia(nome1 = 'João', nome2 = \"Augusto\")"
      ],
      "metadata": {
        "id": "xtCDis4ljO1R"
      },
      "execution_count": null,
      "outputs": []
    },
    {
      "cell_type": "code",
      "source": [
        "#bom_dia()"
      ],
      "metadata": {
        "id": "1WBDz2TCjZRP"
      },
      "execution_count": null,
      "outputs": []
    },
    {
      "cell_type": "code",
      "source": [
        "def bom_dia(nome1 = 'João',nome2 = 'Augusto'):\n",
        "  print(f'Bom dia {nome1} e {nome2}')"
      ],
      "metadata": {
        "id": "cRsBXgVkjeZU"
      },
      "execution_count": null,
      "outputs": []
    },
    {
      "cell_type": "code",
      "source": [
        "bom_dia()"
      ],
      "metadata": {
        "id": "cf9kp7TTjiI0"
      },
      "execution_count": null,
      "outputs": []
    },
    {
      "cell_type": "code",
      "source": [
        "def funcao(fruta):\n",
        "  for x in fruta:\n",
        "    print(x)"
      ],
      "metadata": {
        "id": "jZQSSjkmjmZS"
      },
      "execution_count": null,
      "outputs": []
    },
    {
      "cell_type": "code",
      "source": [
        "funcao(['banana','maçã','goiava'])"
      ],
      "metadata": {
        "id": "hjjAF0vvj2T_"
      },
      "execution_count": null,
      "outputs": []
    },
    {
      "cell_type": "code",
      "source": [
        "def multiplica(x):\n",
        "  return 5 * x\n",
        "\n",
        "print(multiplica(3))\n",
        "print(multiplica(5))\n",
        "print(multiplica(9))"
      ],
      "metadata": {
        "id": "mesjyBuWj9Hr"
      },
      "execution_count": null,
      "outputs": []
    },
    {
      "cell_type": "markdown",
      "source": [
        "**Função lambda** "
      ],
      "metadata": {
        "id": "e3co4tDWkTnb"
      }
    },
    {
      "cell_type": "code",
      "source": [
        "soma = lambda a : a + 10\n",
        "print(soma(5))"
      ],
      "metadata": {
        "id": "DNaeDTHjkIgu"
      },
      "execution_count": null,
      "outputs": []
    },
    {
      "cell_type": "code",
      "source": [
        "def multiplica(n):\n",
        "  return lambda a : a * n\n",
        "\n",
        "multi_3 = multiplica(3)\n",
        "multi_6 = multiplica(6)\n",
        "\n",
        "print(multi_3(11))\n",
        "print(multi_6(11))"
      ],
      "metadata": {
        "id": "xlDKzJqTkSvx"
      },
      "execution_count": null,
      "outputs": []
    }
  ]
}